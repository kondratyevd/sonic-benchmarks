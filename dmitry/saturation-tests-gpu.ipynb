{
 "cells": [
  {
   "cell_type": "code",
   "execution_count": 49,
   "id": "80668b52-87fa-4a34-a027-c3903c318a8e",
   "metadata": {
    "tags": []
   },
   "outputs": [],
   "source": [
    "LOGS_DIR = \"/depot/cms/sonic/dkondra/saturation_logs\"\n",
    "MEAS_DIR = \"/depot/cms/sonic/dkondra/saturation_measurements/1xT4\"\n",
    "# MEAS_DIR = \"/depot/cms/sonic/dkondra/saturation_measurements/T4\"\n",
    "# MEAS_DIR = \"/depot/cms/sonic/dkondra/saturation_measurements/A100\"\n"
   ]
  },
  {
   "cell_type": "code",
   "execution_count": 50,
   "id": "22413989-1f21-4174-9aa0-22104606b8e2",
   "metadata": {
    "tags": []
   },
   "outputs": [],
   "source": [
    "def get_throughput(job_id, start=100, end=900):\n",
    "    import sys\n",
    "    log_file = f\"{LOGS_DIR}/job_{job_id}.err\"\n",
    "\n",
    "    file = open(log_file, 'r')\n",
    "    lines = file.readlines()\n",
    "    \n",
    "    start_ok = end_ok = False\n",
    "\n",
    "    for line in lines:\n",
    "        if f\"Begin processing the {start}th record\" in line:\n",
    "            start_time = str.split(line)[-2]\n",
    "            start_ok = True\n",
    "        if f\"Begin processing the {end}th record\" in line:\n",
    "            end_time = str.split(line)[-2]\n",
    "            end_ok = True\n",
    "            continue\n",
    "\n",
    "    if not start_ok:\n",
    "        raise Exception(f\"No entry for {start}th event. Maybe the job is still running?\")\n",
    "    if not end_ok:\n",
    "        raise Exception(f\"No entry for {end}th event. Maybe the job is still running?\")\n",
    "\n",
    "    def timediff(str1, str2, nevts):\n",
    "        splot = str.split(str1, \":\")\n",
    "        splot2 = str.split(str2, \":\")\n",
    "        if((float(splot[0]) - float(splot2[0])) >= 0.):\n",
    "            hrdiff = (float(splot[0]) - float(splot2[0]))*3600.\n",
    "        else:\n",
    "            hrdiff = (24 + float(splot[0]) - float(splot2[0]))*3600.\n",
    "        mindiff = (float(splot[1]) - float(splot2[1]))*60.\n",
    "        secdiff = (float(splot[2]) - float(splot2[2]))\n",
    "        theDiff = hrdiff+mindiff+secdiff\n",
    "        return nevts/theDiff\n",
    "\n",
    "    file.close()\n",
    "\n",
    "    return timediff(end_time, start_time, end-start)"
   ]
  },
  {
   "cell_type": "code",
   "execution_count": 42,
   "id": "bcb95fc4-6b68-407e-bdb1-e6e33030505a",
   "metadata": {
    "tags": []
   },
   "outputs": [],
   "source": [
    "import subprocess\n",
    "import os\n",
    "\n",
    "def cancel_job(job_d):\n",
    "    subprocess.run(f\"scancel {job_id}\", shell=True)\n",
    "\n",
    "def cancel_jobs():\n",
    "    username = os.environ.get(\"USER\")\n",
    "    subprocess.run(f\"scancel -u {username}\", shell=True)\n",
    "\n",
    "def submit_slurm_job():\n",
    "    result = subprocess.run(\"sbatch slurm-script.sh\", shell=True, check=True, stdout=subprocess.PIPE, stderr=subprocess.PIPE)\n",
    "    job_id = int(result.stdout.decode(\"utf-8\").split(\" \")[-1])\n",
    "    return job_id\n",
    "\n",
    "def get_n_slurm_jobs():\n",
    "    result = subprocess.run(\"squeue -u dkondra | wc -l\", shell=True, check=True, stdout=subprocess.PIPE, stderr=subprocess.PIPE)\n",
    "    njobs = int(result.stdout.decode(\"utf-8\")) - 1\n",
    "    return njobs\n",
    "\n",
    "def submit_n_jobs(n):\n",
    "    job_ids = []\n",
    "    for i in range(n):\n",
    "        job_ids.append(submit_slurm_job())\n",
    "    return job_ids\n",
    "\n",
    "\n",
    "def delete_logs(job_id):\n",
    "    log_files = [\n",
    "        f\"{LOGS_DIR}/job_{job_id}.err\",\n",
    "        f\"{LOGS_DIR}/job_{job_id}.out\"\n",
    "    ]\n",
    "    for lf in log_files:\n",
    "        subprocess.run(f\"rm {lf}\", shell=True)\n",
    "\n",
    "def save_measurements(throughputs):\n",
    "    n_jobs = len(throughputs)\n",
    "    out_file = f\"{MEAS_DIR}/{n_jobs}.txt\"\n",
    "    with open(out_file, 'w') as file:\n",
    "        for value in throughputs.values():\n",
    "            file.write(str(value) + '\\n')"
   ]
  },
  {
   "cell_type": "code",
   "execution_count": 47,
   "id": "a13ae589-d722-4b68-aedb-1444c711b6a5",
   "metadata": {
    "tags": []
   },
   "outputs": [],
   "source": [
    "# cancel_jobs()\n",
    "n = 20\n",
    "job_ids = submit_n_jobs(n)"
   ]
  },
  {
   "cell_type": "code",
   "execution_count": 48,
   "id": "7ced3415-70d7-467d-a593-68e85b4c13f1",
   "metadata": {
    "tags": []
   },
   "outputs": [
    {
     "name": "stdout",
     "output_type": "stream",
     "text": [
      "40 jobs still running. Done: 0/20\n",
      "40 jobs still running. Done: 0/20\n",
      "40 jobs still running. Done: 0/20\n",
      "40 jobs still running. Done: 0/20\n",
      "40 jobs still running. Done: 0/20\n",
      "40 jobs still running. Done: 0/20\n",
      "40 jobs still running. Done: 0/20\n",
      "40 jobs still running. Done: 0/20\n",
      "41 jobs still running. Done: 0/20\n",
      "41 jobs still running. Done: 0/20\n",
      "41 jobs still running. Done: 0/20\n",
      "41 jobs still running. Done: 0/20\n",
      "41 jobs still running. Done: 0/20\n",
      "41 jobs still running. Done: 0/20\n",
      "41 jobs still running. Done: 0/20\n",
      "41 jobs still running. Done: 0/20\n",
      "41 jobs still running. Done: 0/20\n",
      "41 jobs still running. Done: 0/20\n",
      "41 jobs still running. Done: 0/20\n",
      "41 jobs still running. Done: 0/20\n",
      "41 jobs still running. Done: 0/20\n",
      "41 jobs still running. Done: 5/20\n",
      "41 jobs still running. Done: 5/20\n",
      "41 jobs still running. Done: 5/20\n",
      "41 jobs still running. Done: 9/20\n",
      "41 jobs still running. Done: 19/20\n",
      "41 jobs still running. Done: 19/20\n",
      "41 jobs still running. Done: 19/20\n",
      "Done!\n"
     ]
    }
   ],
   "source": [
    "import time\n",
    "\n",
    "throughputs = {job_id: 0 for job_id in job_ids}\n",
    "done = 0\n",
    "    \n",
    "while True:\n",
    "    all_ready = True\n",
    "    for job_id in job_ids:\n",
    "        # If throughput for this job already calculated\n",
    "        if throughputs[job_id] > 0:\n",
    "            continue\n",
    "\n",
    "        # Try to extract througput\n",
    "        try:\n",
    "            tp_value = get_throughput(job_id)\n",
    "            throughputs[job_id] = tp_value\n",
    "            done += 1\n",
    "            # delete_logs(job_id)\n",
    "        except Exception:\n",
    "            # print(job_id)\n",
    "            all_ready = False\n",
    "            continue\n",
    "\n",
    "    # Exit loop when all throughputs are extracted\n",
    "    if all_ready:\n",
    "        print(\"Done!\")\n",
    "        save_measurements(throughputs)\n",
    "        for job_id in job_ids:\n",
    "            cancel_job(job_id)\n",
    "        # cancel_jobs()\n",
    "        # subprocess.run(f\"rm {LOGS_DIR}/*\", shell=True)\n",
    "        # print(throughputs)\n",
    "        break\n",
    "\n",
    "    njobs = get_n_slurm_jobs()\n",
    "    print(f\"{njobs} jobs still running. Done: {done}/{len(job_ids)}\")\n",
    "    # If we are still in the loop - wait\n",
    "    time.sleep(60)\n"
   ]
  },
  {
   "cell_type": "code",
   "execution_count": 44,
   "id": "d9c3c7ab-9f92-4689-8c2c-456e69a2f0c7",
   "metadata": {},
   "outputs": [
    {
     "data": {
      "text/plain": [
       "CompletedProcess(args='rm /depot/cms/sonic/dkondra/saturation_logs/*', returncode=0)"
      ]
     },
     "execution_count": 44,
     "metadata": {},
     "output_type": "execute_result"
    }
   ],
   "source": [
    "cancel_jobs()\n",
    "subprocess.run(f\"rm {LOGS_DIR}/*\", shell=True)"
   ]
  },
  {
   "cell_type": "code",
   "execution_count": null,
   "id": "0cc3ebf5-8339-4ee8-88e5-661adbf0597c",
   "metadata": {},
   "outputs": [],
   "source": [
    "for key, value in throughputs.items():\n",
    "    print(key,value)"
   ]
  },
  {
   "cell_type": "code",
   "execution_count": null,
   "id": "f7a36034-5719-43e2-9304-79361a0143a0",
   "metadata": {},
   "outputs": [],
   "source": []
  }
 ],
 "metadata": {
  "kernelspec": {
   "display_name": "Python3 kernel (default)",
   "language": "python",
   "name": "python3"
  },
  "language_info": {
   "codemirror_mode": {
    "name": "ipython",
    "version": 3
   },
   "file_extension": ".py",
   "mimetype": "text/x-python",
   "name": "python",
   "nbconvert_exporter": "python",
   "pygments_lexer": "ipython3",
   "version": "3.10.10"
  }
 },
 "nbformat": 4,
 "nbformat_minor": 5
}
